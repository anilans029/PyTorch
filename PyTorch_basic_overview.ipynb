{
  "nbformat": 4,
  "nbformat_minor": 0,
  "metadata": {
    "colab": {
      "name": "PyTorch.ipynb",
      "provenance": [],
      "collapsed_sections": [],
      "machine_shape": "hm",
      "authorship_tag": "ABX9TyNUkJAPvsw9pYkmNL82xN9W",
      "include_colab_link": true
    },
    "kernelspec": {
      "name": "python3",
      "display_name": "Python 3"
    },
    "language_info": {
      "name": "python"
    },
    "accelerator": "GPU",
    "gpuClass": "standard"
  },
  "cells": [
    {
      "cell_type": "markdown",
      "metadata": {
        "id": "view-in-github",
        "colab_type": "text"
      },
      "source": [
        "<a href=\"https://colab.research.google.com/github/anilans029/PyTorch/blob/main/PyTorch_basic_overview.ipynb\" target=\"_parent\"><img src=\"https://colab.research.google.com/assets/colab-badge.svg\" alt=\"Open In Colab\"/></a>"
      ]
    },
    {
      "cell_type": "code",
      "execution_count": 1,
      "metadata": {
        "id": "YPFrEMcUgKIj"
      },
      "outputs": [],
      "source": [
        "import torch"
      ]
    },
    {
      "cell_type": "markdown",
      "source": [
        "### **Tensors in PyTorch**"
      ],
      "metadata": {
        "id": "TJeHGmFZk4Gd"
      }
    },
    {
      "cell_type": "markdown",
      "source": [
        "> whenever we work with deep learning models there will be lot of computations required and with cpu the speed will be very slow. So, utilize the GPU we need to give everything in the form of tensors. \n",
        "\n",
        "> since the gpu have a lot of cores, we can achieve parallel computation and speed of training is very high when compared to cpu\n",
        "\n",
        "> in the list we can mention multiple data types at once but in tensors we cant define multiple data type values at once\n",
        "\n",
        "> suppose if we are having 1 float value and remaining ara the integers then tensor will convert all of them into float values"
      ],
      "metadata": {
        "id": "avoVpbj5nMmm"
      }
    },
    {
      "cell_type": "code",
      "source": [
        "t1 = torch.tensor(4.)\n",
        "t1"
      ],
      "metadata": {
        "colab": {
          "base_uri": "https://localhost:8080/"
        },
        "id": "hsIxHF0jgRuo",
        "outputId": "550c7b0e-df16-42e3-ef8e-2827a42c762e"
      },
      "execution_count": 7,
      "outputs": [
        {
          "output_type": "execute_result",
          "data": {
            "text/plain": [
              "tensor(4.)"
            ]
          },
          "metadata": {},
          "execution_count": 7
        }
      ]
    },
    {
      "cell_type": "markdown",
      "source": [
        "> we are giving the numbers in the float type because we know during the backtracking or gradients calculating, the weights get updated and will be in the float types"
      ],
      "metadata": {
        "id": "y_kzu--VoTVI"
      }
    },
    {
      "cell_type": "code",
      "source": [
        "type([4]), type(t1)"
      ],
      "metadata": {
        "colab": {
          "base_uri": "https://localhost:8080/"
        },
        "id": "KDTq1klFgRr0",
        "outputId": "a0f44e60-1968-4a57-d55e-edc3db569ab1"
      },
      "execution_count": 8,
      "outputs": [
        {
          "output_type": "execute_result",
          "data": {
            "text/plain": [
              "(list, torch.Tensor)"
            ]
          },
          "metadata": {},
          "execution_count": 8
        }
      ]
    },
    {
      "cell_type": "code",
      "source": [
        "t1.dtype"
      ],
      "metadata": {
        "colab": {
          "base_uri": "https://localhost:8080/"
        },
        "id": "A1f85s85gRpX",
        "outputId": "2522767b-7577-4254-9067-a99b515bfe54"
      },
      "execution_count": 9,
      "outputs": [
        {
          "output_type": "execute_result",
          "data": {
            "text/plain": [
              "torch.float32"
            ]
          },
          "metadata": {},
          "execution_count": 9
        }
      ]
    },
    {
      "cell_type": "markdown",
      "source": [
        "## **Vector**"
      ],
      "metadata": {
        "id": "FEK2R_sXn_pB"
      }
    },
    {
      "cell_type": "markdown",
      "source": [
        "vector = list of numbers\n",
        "\n",
        "matrix = list of list of numbers"
      ],
      "metadata": {
        "id": "lIH4t3GQoKKB"
      }
    },
    {
      "cell_type": "code",
      "source": [
        "t2 = torch.tensor([1., 2.,3.,4.])"
      ],
      "metadata": {
        "id": "AKqzR1ypgRm3"
      },
      "execution_count": 18,
      "outputs": []
    },
    {
      "cell_type": "markdown",
      "source": [
        "## **Matrix**"
      ],
      "metadata": {
        "id": "pHhwaXcqpY0K"
      }
    },
    {
      "cell_type": "code",
      "source": [
        "t3 = torch.tensor(\n",
        "    [\n",
        "        [1.,2.,3.],\n",
        "     [3.,4.,11]\n",
        "    ]\n",
        ")\n",
        "\n",
        "t3"
      ],
      "metadata": {
        "colab": {
          "base_uri": "https://localhost:8080/"
        },
        "id": "u1BF6KlupXpI",
        "outputId": "b44d5995-b955-4be2-dd0d-faa1dc14a02c"
      },
      "execution_count": 10,
      "outputs": [
        {
          "output_type": "execute_result",
          "data": {
            "text/plain": [
              "tensor([[ 1.,  2.,  3.],\n",
              "        [ 3.,  4., 11.]])"
            ]
          },
          "metadata": {},
          "execution_count": 10
        }
      ]
    },
    {
      "cell_type": "code",
      "source": [
        "### 3-D array or tensor\n",
        "\n",
        "t4 = torch.tensor([\n",
        "                  [[1.,2.,3.],\n",
        "                  [4.,5.,6.]],\n",
        "\n",
        "                  [[11.,22.,33],\n",
        "                  [12.,44.,56]]\n",
        "                  ]\n",
        "    )\n",
        "t4"
      ],
      "metadata": {
        "colab": {
          "base_uri": "https://localhost:8080/"
        },
        "id": "6MzEejjugRkM",
        "outputId": "02313e13-2c47-41ca-c416-872c177fbd42"
      },
      "execution_count": 11,
      "outputs": [
        {
          "output_type": "execute_result",
          "data": {
            "text/plain": [
              "tensor([[[ 1.,  2.,  3.],\n",
              "         [ 4.,  5.,  6.]],\n",
              "\n",
              "        [[11., 22., 33.],\n",
              "         [12., 44., 56.]]])"
            ]
          },
          "metadata": {},
          "execution_count": 11
        }
      ]
    },
    {
      "cell_type": "code",
      "source": [
        "t1.shape, t2.dtype"
      ],
      "metadata": {
        "colab": {
          "base_uri": "https://localhost:8080/"
        },
        "id": "rhjRvzlArM1N",
        "outputId": "9e30427f-2b20-4160-cf23-97de0d15f3d1"
      },
      "execution_count": 23,
      "outputs": [
        {
          "output_type": "execute_result",
          "data": {
            "text/plain": [
              "(torch.Size([]), torch.float32)"
            ]
          },
          "metadata": {},
          "execution_count": 23
        }
      ]
    },
    {
      "cell_type": "code",
      "source": [
        "t2.shape, t2.dtype"
      ],
      "metadata": {
        "colab": {
          "base_uri": "https://localhost:8080/"
        },
        "id": "szPjhBkmgRhg",
        "outputId": "c5a1c607-f6ed-4573-fc7e-3285982ec213"
      },
      "execution_count": 22,
      "outputs": [
        {
          "output_type": "execute_result",
          "data": {
            "text/plain": [
              "(torch.Size([4]), torch.float32)"
            ]
          },
          "metadata": {},
          "execution_count": 22
        }
      ]
    },
    {
      "cell_type": "code",
      "source": [
        "t3.shape, t2.dtype"
      ],
      "metadata": {
        "colab": {
          "base_uri": "https://localhost:8080/"
        },
        "id": "3SuN8SpcgRfI",
        "outputId": "0cc8a5fe-35ce-4cd2-c4b2-a4c60bae557b"
      },
      "execution_count": 24,
      "outputs": [
        {
          "output_type": "execute_result",
          "data": {
            "text/plain": [
              "(torch.Size([2, 3]), torch.float32)"
            ]
          },
          "metadata": {},
          "execution_count": 24
        }
      ]
    },
    {
      "cell_type": "code",
      "source": [
        "t4.shape, t2.dtype"
      ],
      "metadata": {
        "colab": {
          "base_uri": "https://localhost:8080/"
        },
        "id": "laOtaNwAgRct",
        "outputId": "a0dc5479-96b0-423c-f9e3-b4345b62d83c"
      },
      "execution_count": 25,
      "outputs": [
        {
          "output_type": "execute_result",
          "data": {
            "text/plain": [
              "(torch.Size([2, 2, 3]), torch.float32)"
            ]
          },
          "metadata": {},
          "execution_count": 25
        }
      ]
    },
    {
      "cell_type": "markdown",
      "source": [
        "# **Tensors Opereations**"
      ],
      "metadata": {
        "id": "LgfdMgxCupGM"
      }
    },
    {
      "cell_type": "markdown",
      "source": [
        "PyTorch suports auto grad operation i.e calculating the gradient autmatically\n",
        "\n",
        "> but how it knows for which parameters it need to do auto gradient i.e, which are trainable parameters\n",
        "\n",
        "> for that we need to metion requires_grad = true::"
      ],
      "metadata": {
        "id": "IcnAdg7avOz1"
      }
    },
    {
      "cell_type": "code",
      "source": [
        "x = torch.tensor(2.)\n",
        "w = torch.tensor(4., requires_grad = True)\n",
        "b = torch.tensor(4., requires_grad = True)"
      ],
      "metadata": {
        "id": "EwA3xG-zgRaB"
      },
      "execution_count": 27,
      "outputs": []
    },
    {
      "cell_type": "code",
      "source": [
        "## Arithmetic \n",
        "\n",
        "y = w*x + b\n",
        "y"
      ],
      "metadata": {
        "colab": {
          "base_uri": "https://localhost:8080/"
        },
        "id": "RoT5UIXIwM-m",
        "outputId": "2fbf979e-dea2-41de-fcd7-1e2346fe3635"
      },
      "execution_count": 28,
      "outputs": [
        {
          "output_type": "execute_result",
          "data": {
            "text/plain": [
              "tensor(12., grad_fn=<AddBackward0>)"
            ]
          },
          "metadata": {},
          "execution_count": 28
        }
      ]
    },
    {
      "cell_type": "code",
      "source": [
        "## to calculate the gradients \n",
        "\n",
        "y.backward()"
      ],
      "metadata": {
        "id": "5kDWF9VRgRXu"
      },
      "execution_count": 29,
      "outputs": []
    },
    {
      "cell_type": "code",
      "source": [
        "print(\"dy/dx\", x.grad)\n",
        "print(\"dy/dw\", w.grad)\n",
        "print(\"dy/db\", b.grad)"
      ],
      "metadata": {
        "colab": {
          "base_uri": "https://localhost:8080/"
        },
        "id": "GVV8Cwl3gYsp",
        "outputId": "0e170b22-8079-4083-ed81-ac86840cc3be"
      },
      "execution_count": 31,
      "outputs": [
        {
          "output_type": "stream",
          "name": "stdout",
          "text": [
            "dy/dx None\n",
            "dy/dw tensor(2.)\n",
            "dy/db tensor(1.)\n"
          ]
        }
      ]
    },
    {
      "cell_type": "markdown",
      "source": [
        "## **Tensor functions**"
      ],
      "metadata": {
        "id": "XtTYRCjkyIW3"
      }
    },
    {
      "cell_type": "code",
      "source": [
        "## create a full array with same value\n",
        "\n",
        "t6 = torch.full((3,3), 22)\n",
        "t6"
      ],
      "metadata": {
        "colab": {
          "base_uri": "https://localhost:8080/"
        },
        "id": "q8xgfWe1gYnx",
        "outputId": "97644812-835b-4769-de06-bd0026e15c36"
      },
      "execution_count": 32,
      "outputs": [
        {
          "output_type": "execute_result",
          "data": {
            "text/plain": [
              "tensor([[22, 22, 22],\n",
              "        [22, 22, 22],\n",
              "        [22, 22, 22]])"
            ]
          },
          "metadata": {},
          "execution_count": 32
        }
      ]
    },
    {
      "cell_type": "code",
      "source": [
        "## to concatenate two tensors\n",
        "\n",
        "t7 = torch.cat((t3,t6))\n",
        "t7"
      ],
      "metadata": {
        "colab": {
          "base_uri": "https://localhost:8080/"
        },
        "id": "w-z3S-24gYlj",
        "outputId": "4c2fb04e-9e50-4f57-f83b-7077a24d4153"
      },
      "execution_count": 34,
      "outputs": [
        {
          "output_type": "execute_result",
          "data": {
            "text/plain": [
              "tensor([[ 1.,  2.,  3.],\n",
              "        [ 3.,  4., 11.],\n",
              "        [22., 22., 22.],\n",
              "        [22., 22., 22.],\n",
              "        [22., 22., 22.]])"
            ]
          },
          "metadata": {},
          "execution_count": 34
        }
      ]
    },
    {
      "cell_type": "code",
      "source": [
        "## sin value of all the values in tensor\n",
        "\n",
        "t8 = torch.sin(t7)\n",
        "t8"
      ],
      "metadata": {
        "colab": {
          "base_uri": "https://localhost:8080/"
        },
        "id": "-7Mm62Q9gYjG",
        "outputId": "591e59c6-4b36-4ba4-fb9b-955eadb996e1"
      },
      "execution_count": 35,
      "outputs": [
        {
          "output_type": "execute_result",
          "data": {
            "text/plain": [
              "tensor([[ 0.8415,  0.9093,  0.1411],\n",
              "        [ 0.1411, -0.7568, -1.0000],\n",
              "        [-0.0089, -0.0089, -0.0089],\n",
              "        [-0.0089, -0.0089, -0.0089],\n",
              "        [-0.0089, -0.0089, -0.0089]])"
            ]
          },
          "metadata": {},
          "execution_count": 35
        }
      ]
    },
    {
      "cell_type": "code",
      "source": [
        "## reshape the tensors\n",
        "\n",
        "t9 = t8.reshape(3,5)\n",
        "t9"
      ],
      "metadata": {
        "colab": {
          "base_uri": "https://localhost:8080/"
        },
        "id": "LGv_NWNJgYgu",
        "outputId": "c0e3d38a-8c73-4bfb-c69f-a0139fa8da35"
      },
      "execution_count": 36,
      "outputs": [
        {
          "output_type": "execute_result",
          "data": {
            "text/plain": [
              "tensor([[ 0.8415,  0.9093,  0.1411,  0.1411, -0.7568],\n",
              "        [-1.0000, -0.0089, -0.0089, -0.0089, -0.0089],\n",
              "        [-0.0089, -0.0089, -0.0089, -0.0089, -0.0089]])"
            ]
          },
          "metadata": {},
          "execution_count": 36
        }
      ]
    },
    {
      "cell_type": "markdown",
      "source": [
        "## ***Interoperability with numpy***\n",
        "\n",
        "> generally we need tensors when we are giving our parameters for training\n",
        "\n",
        "> but before giving to training, we can work with numpy"
      ],
      "metadata": {
        "id": "wUkblGSC0MZA"
      }
    },
    {
      "cell_type": "markdown",
      "source": [
        "1. converting the numpy into tensor"
      ],
      "metadata": {
        "id": "YLzw_Ze31tkU"
      }
    },
    {
      "cell_type": "code",
      "source": [
        "import numpy as np\n",
        "\n",
        "x = np.array([[22, 22, 22],\n",
        "              [22, 22, 22],\n",
        "              [22, 22, 22]])\n",
        "\n",
        "y = torch.from_numpy(x)\n",
        "y\n"
      ],
      "metadata": {
        "colab": {
          "base_uri": "https://localhost:8080/"
        },
        "id": "mLeCbnfFzfUa",
        "outputId": "48500b57-4e3b-4761-8989-225c834cca3e"
      },
      "execution_count": 39,
      "outputs": [
        {
          "output_type": "execute_result",
          "data": {
            "text/plain": [
              "tensor([[22, 22, 22],\n",
              "        [22, 22, 22],\n",
              "        [22, 22, 22]])"
            ]
          },
          "metadata": {},
          "execution_count": 39
        }
      ]
    },
    {
      "cell_type": "markdown",
      "source": [
        "2. converting tensor to numpy"
      ],
      "metadata": {
        "id": "BZICb6PY1z0w"
      }
    },
    {
      "cell_type": "code",
      "source": [
        "y.numpy()"
      ],
      "metadata": {
        "colab": {
          "base_uri": "https://localhost:8080/"
        },
        "id": "V9g4dBxq0I1r",
        "outputId": "667b66d5-23e1-4564-c8c6-16ff652540b7"
      },
      "execution_count": 40,
      "outputs": [
        {
          "output_type": "execute_result",
          "data": {
            "text/plain": [
              "array([[22, 22, 22],\n",
              "       [22, 22, 22],\n",
              "       [22, 22, 22]])"
            ]
          },
          "metadata": {},
          "execution_count": 40
        }
      ]
    },
    {
      "cell_type": "code",
      "source": [],
      "metadata": {
        "id": "UWeksnyL0IyZ"
      },
      "execution_count": null,
      "outputs": []
    },
    {
      "cell_type": "code",
      "source": [],
      "metadata": {
        "id": "YpuijLiK0IvV"
      },
      "execution_count": null,
      "outputs": []
    },
    {
      "cell_type": "code",
      "source": [],
      "metadata": {
        "id": "vrYx3eyC0Iri"
      },
      "execution_count": null,
      "outputs": []
    }
  ]
}